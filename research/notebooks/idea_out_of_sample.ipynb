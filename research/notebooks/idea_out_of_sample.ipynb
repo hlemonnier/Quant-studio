{
 "cells": [
  {
   "cell_type": "markdown",
   "metadata": {},
   "source": [
    "Usually, researchers use backtesting to find optimal hyperparameters and out-of-sample test for evaluating. I like this approach, but I think we can get a more significant result if we use a few backtesting periods (folds)\n",
    "\n",
    "When a fold is closer to a out-of-sample period, then the fold has a greater weight in the final weighted score.\n",
    "\n",
    "Also, this function should penalize a final value if some fold has a negative performance. As a score function in a trading, you can use the Sortino ratio, or any function that estimates the quality of the strategy. For our purpose, the lower value is better. This means we should invert the Sortino ratio value.\n",
    "\n"
   ]
  },
  {
   "cell_type": "markdown",
   "metadata": {},
   "source": [
    "In this example, we will use:\n",
    "\n",
    "- Five folds by one month for the training (optimization) step\n",
    "- One month for the testing period, and three weeks for validation (out-of-sample period)\n",
    "\n",
    "The testing period allows selecting pairs that will be tested on the validation period.\n",
    "\n",
    "Training period: 2018–06–01 to 2018–10–31\n",
    "Testing period: 2018–11–1 to 2018–11–30\n",
    "Validation period: 2018–12–1 to 2018–12–21\n",
    "Let’s define the periods, hyperparameter space, and a weighted_mean function. This code allows to define a different length of folds by period_weights."
   ]
  }
 ],
 "metadata": {
  "language_info": {
   "name": "python"
  }
 },
 "nbformat": 4,
 "nbformat_minor": 2
}
